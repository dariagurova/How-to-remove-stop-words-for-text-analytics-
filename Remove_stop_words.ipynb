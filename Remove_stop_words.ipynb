{
  "nbformat": 4,
  "nbformat_minor": 0,
  "metadata": {
    "colab": {
      "name": "Remove_stop_words.ipynb",
      "provenance": [],
      "collapsed_sections": []
    },
    "kernelspec": {
      "name": "python3",
      "display_name": "Python 3"
    },
    "language_info": {
      "name": "python"
    }
  },
  "cells": [
    {
      "cell_type": "code",
      "metadata": {
        "id": "m_bQ5JIjRDZO"
      },
      "source": [
        "from google.colab import files   \n",
        "upload = files.upload() ##local file upload "
      ],
      "execution_count": null,
      "outputs": []
    },
    {
      "cell_type": "code",
      "metadata": {
        "colab": {
          "base_uri": "https://localhost:8080/"
        },
        "id": "8s1X8GbtX6Jj",
        "outputId": "c7384e6a-6751-4376-ab6a-13d12faf10d8"
      },
      "source": [
        "import io\n",
        "import pandas as pd\n",
        "import nltk.corpus\n",
        "nltk.download('stopwords')\n",
        "from nltk.corpus import stopwords \n",
        "df = pd.read_excel(io.BytesIO(upload['report1626871833747.xlsx'])) #dataframe \n",
        "df.dropna(inplace=True) #removes missing values \n",
        "stop_words = stopwords.words('english') + ['You', \"who's\", 'A', 'When', 'I', \"it's\", 'as', \"I'd\", 'would', 'like'] #stopwords from library + created dict \n",
        "df['What can we do to improve your Experience'] = df['What can we do to improve your Experience'].apply(lambda x: ' '.join([word for word in x.split() if word not in (stop_words)]))"
      ],
      "execution_count": null,
      "outputs": [
        {
          "output_type": "stream",
          "text": [
            "[nltk_data] Downloading package stopwords to /root/nltk_data...\n",
            "[nltk_data]   Unzipping corpora/stopwords.zip.\n"
          ],
          "name": "stdout"
        }
      ]
    },
    {
      "cell_type": "code",
      "metadata": {
        "id": "PrlXj3MUfKfS"
      },
      "source": [
        "df = df.drop(df.columns[[0, 1, 2, 3, 4, 5, 6, 7, 8, 10]], axis=1) ##removes columns not in use "
      ],
      "execution_count": null,
      "outputs": []
    },
    {
      "cell_type": "code",
      "metadata": {
        "colab": {
          "base_uri": "https://localhost:8080/"
        },
        "id": "EMIQp__5k-gQ",
        "outputId": "a1e1a857-8aaf-4d3f-c23b-7561c7f41719"
      },
      "source": [
        "from google.colab import drive \n",
        "drive.mount('/drive')"
      ],
      "execution_count": null,
      "outputs": [
        {
          "output_type": "stream",
          "text": [
            "Mounted at /drive\n"
          ],
          "name": "stdout"
        }
      ]
    },
    {
      "cell_type": "code",
      "metadata": {
        "id": "UnfdrNnxrW7U"
      },
      "source": [
        "df.to_excel('/drive/My Drive/Removed_stop_words.xlsx') #exports the new excel file to GDrive "
      ],
      "execution_count": null,
      "outputs": []
    }
  ]
}